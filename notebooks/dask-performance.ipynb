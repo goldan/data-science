{
 "cells": [
  {
   "cell_type": "markdown",
   "metadata": {},
   "source": [
    "# Using Dask for parallelization of in-core data"
   ]
  },
  {
   "cell_type": "markdown",
   "metadata": {},
   "source": [
    "This example shows how Dask can drastically increase performance even for data fitting into RAM. \n",
    "\n",
    "Let's say we have a big list of companies names (~7.5 million names) stored in memory.\n",
    "\n",
    "Our goal is to construct a frequency table of all words in the company names."
   ]
  },
  {
   "cell_type": "code",
   "execution_count": 2,
   "metadata": {
    "collapsed": false
   },
   "outputs": [
    {
     "data": {
      "text/plain": [
       "7592219"
      ]
     },
     "execution_count": 2,
     "metadata": {},
     "output_type": "execute_result"
    }
   ],
   "source": [
    "len(names)"
   ]
  },
  {
   "cell_type": "code",
   "execution_count": 3,
   "metadata": {
    "collapsed": false
   },
   "outputs": [
    {
     "data": {
      "text/plain": [
       "(u'CHICKEN SHAK LTD',\n",
       " u'Quality Installation Services',\n",
       " u'Pine Shadows Elementary School',\n",
       " u'Clay County Information',\n",
       " u'Denessen Contracting',\n",
       " u'VERITY SMITH FACE AND BODY LIMITED',\n",
       " u'AllNations Bank',\n",
       " u'LEARNING ABOUT DOGS LIMITED',\n",
       " u'Moss Printing Inc.',\n",
       " u'Touei Housing Corp (8875)',\n",
       " u'Fts Travel',\n",
       " u'Jencraft',\n",
       " u'Dee Empresa Hotel',\n",
       " u'PLAYOUT MARKETING LIMITED',\n",
       " u'GUTSTECH',\n",
       " u'Honey Crust Bakery Co Limited',\n",
       " u'Off Site Manufacturing',\n",
       " u'Lapatra Architects',\n",
       " u'Island Rent A Car',\n",
       " u'Compton Nursery')"
      ]
     },
     "execution_count": 3,
     "metadata": {},
     "output_type": "execute_result"
    }
   ],
   "source": [
    "names[:20]"
   ]
  },
  {
   "cell_type": "markdown",
   "metadata": {},
   "source": [
    "## Naive approach"
   ]
  },
  {
   "cell_type": "markdown",
   "metadata": {},
   "source": [
    "Take each name, split into words, normalize them and count frequencies using `Counter`."
   ]
  },
  {
   "cell_type": "code",
   "execution_count": null,
   "metadata": {
    "collapsed": false
   },
   "outputs": [],
   "source": [
    "import re\n",
    "import nltk\n",
    "from collections import Counter\n",
    "from nltk.corpus import stopwords\n",
    "\n",
    "def count_words():\n",
    "    counter = Counter()\n",
    "    for name in names:\n",
    "        counter.update([word for word in nltk.word_tokenize(name.lower()) \n",
    "                        if word not in stopwords.words('english') \n",
    "                        and re.search(\"^[0-9a-zA-Z]+$\", word) is not None])\n",
    "%time count_words()"
   ]
  },
  {
   "cell_type": "markdown",
   "metadata": {},
   "source": [
    "## Dask.Bag approach"
   ]
  },
  {
   "cell_type": "code",
   "execution_count": 9,
   "metadata": {
    "collapsed": false
   },
   "outputs": [],
   "source": [
    "import re\n",
    "import nltk\n",
    "import pandas as pd\n",
    "from dask.bag as bag\n",
    "from nltk.corpus import stopwords"
   ]
  },
  {
   "cell_type": "code",
   "execution_count": 13,
   "metadata": {
    "collapsed": false
   },
   "outputs": [],
   "source": [
    "names_bag = bag.from_sequence(names)  # create a Dask.Bag from a list of names "
   ]
  },
  {
   "cell_type": "code",
   "execution_count": 4,
   "metadata": {
    "collapsed": false,
    "scrolled": true
   },
   "outputs": [
    {
     "data": {
      "text/plain": [
       "(u'CHICKEN SHAK LTD',\n",
       " u'Quality Installation Services',\n",
       " u'Pine Shadows Elementary School',\n",
       " u'Clay County Information',\n",
       " u'Denessen Contracting',\n",
       " u'VERITY SMITH FACE AND BODY LIMITED',\n",
       " u'AllNations Bank',\n",
       " u'LEARNING ABOUT DOGS LIMITED',\n",
       " u'Moss Printing Inc.',\n",
       " u'Touei Housing Corp (8875)',\n",
       " u'Fts Travel',\n",
       " u'Jencraft',\n",
       " u'Dee Empresa Hotel',\n",
       " u'PLAYOUT MARKETING LIMITED',\n",
       " u'GUTSTECH',\n",
       " u'Honey Crust Bakery Co Limited',\n",
       " u'Off Site Manufacturing',\n",
       " u'Lapatra Architects',\n",
       " u'Island Rent A Car',\n",
       " u'Compton Nursery')"
      ]
     },
     "execution_count": 4,
     "metadata": {},
     "output_type": "execute_result"
    }
   ],
   "source": [
    "names_bag.take(20)  # take a look at the data"
   ]
  },
  {
   "cell_type": "code",
   "execution_count": 34,
   "metadata": {
    "collapsed": true
   },
   "outputs": [],
   "source": [
    "# define helper functions\n",
    "no_stopwords = lambda x: x not in stopwords.words('english')\n",
    "is_word = lambda x: re.search(\"^[0-9a-zA-Z]+$\", x) is not None"
   ]
  },
  {
   "cell_type": "code",
   "execution_count": 40,
   "metadata": {
    "collapsed": false
   },
   "outputs": [],
   "source": [
    "# the main pipeline\n",
    "names_counts = (names_bag.map(nltk.word_tokenize).concat()  # tokenize each name and concatenate all sublists of words into one list\n",
    "                .map(lambda x: x.lower())\n",
    "                .filter(no_stopwords)\n",
    "                .filter(is_word).frequencies())"
   ]
  },
  {
   "cell_type": "code",
   "execution_count": 43,
   "metadata": {
    "collapsed": false
   },
   "outputs": [
    {
     "name": "stdout",
     "output_type": "stream",
     "text": [
      "CPU times: user 2min 11s, sys: 18.7 s, total: 2min 29s\n",
      "Wall time: 7min 47s\n"
     ]
    }
   ],
   "source": [
    "%time values = names_counts.compute()"
   ]
  },
  {
   "cell_type": "code",
   "execution_count": 44,
   "metadata": {
    "collapsed": false
   },
   "outputs": [
    {
     "data": {
      "text/plain": [
       "1712054"
      ]
     },
     "execution_count": 44,
     "metadata": {},
     "output_type": "execute_result"
    }
   ],
   "source": [
    "len(values)"
   ]
  },
  {
   "cell_type": "code",
   "execution_count": 45,
   "metadata": {
    "collapsed": true
   },
   "outputs": [],
   "source": [
    "sorted_counts = sorted(values, key=lambda x: x[1], reverse=True)"
   ]
  },
  {
   "cell_type": "code",
   "execution_count": 46,
   "metadata": {
    "collapsed": false
   },
   "outputs": [
    {
     "data": {
      "text/plain": [
       "[(u'inc', 630006),\n",
       " (u'limited', 467549),\n",
       " (u'ltd', 448123),\n",
       " (u'llc', 276294),\n",
       " (u'group', 175037),\n",
       " (u'services', 166412),\n",
       " (u'solutions', 138319),\n",
       " (u'consulting', 119824),\n",
       " (u'co', 100037),\n",
       " (u'design', 89707),\n",
       " (u'de', 84081),\n",
       " (u'management', 80216),\n",
       " (u'company', 76966),\n",
       " (u'international', 70972),\n",
       " (u'systems', 66150),\n",
       " (u'media', 64676),\n",
       " (u'associates', 58710),\n",
       " (u'gmbh', 58630),\n",
       " (u'construction', 57867),\n",
       " (u'marketing', 57505),\n",
       " (u'school', 56117),\n",
       " (u'business', 53091),\n",
       " (u'corp', 51425),\n",
       " (u'center', 50980),\n",
       " (u'technologies', 50114),\n",
       " (u'service', 43261),\n",
       " (u'technology', 42886),\n",
       " (u'studio', 39990),\n",
       " (u'home', 39407),\n",
       " (u'care', 39240),\n",
       " (u'pvt', 38573),\n",
       " (u'corporation', 38489),\n",
       " (u'enterprises', 37888),\n",
       " (u'engineering', 37386),\n",
       " (u'pty', 36433),\n",
       " (u'health', 35891),\n",
       " (u'insurance', 34082),\n",
       " (u'capital', 33891),\n",
       " (u'law', 33846),\n",
       " (u'global', 33352),\n",
       " (u'financial', 33057),\n",
       " (u'development', 32527),\n",
       " (u'new', 32163),\n",
       " (u'e', 32020),\n",
       " (u'church', 31601),\n",
       " (u'productions', 31517),\n",
       " (u'partners', 31244),\n",
       " (u'medical', 31170),\n",
       " (u'communications', 30669),\n",
       " (u'photography', 29348),\n",
       " (u'consultants', 29046),\n",
       " (u'realty', 28950),\n",
       " (u'agency', 28802),\n",
       " (u'club', 28766),\n",
       " (u'digital', 28486),\n",
       " (u'creative', 27821),\n",
       " (u'real', 27735),\n",
       " (u'svc', 27120),\n",
       " (u'software', 27119),\n",
       " (u'estate', 26924),\n",
       " (u'products', 26602),\n",
       " (u'auto', 25832),\n",
       " (u'uk', 25769),\n",
       " (u'srl', 24645),\n",
       " (u'county', 24438),\n",
       " (u'house', 24361),\n",
       " (u'training', 24093),\n",
       " (u'energy', 23863),\n",
       " (u'association', 23773),\n",
       " (u'ab', 23672),\n",
       " (u'city', 23416),\n",
       " (u'ctr', 23407),\n",
       " (u'network', 23387),\n",
       " (u'family', 23106),\n",
       " (u'community', 23064),\n",
       " (u'llp', 23029),\n",
       " (u'sales', 22685),\n",
       " (u'office', 22511),\n",
       " (u'ltda', 22461),\n",
       " (u'consultancy', 22318),\n",
       " (u'foundation', 22108),\n",
       " (u'properties', 21851),\n",
       " (u'web', 21180),\n",
       " (u'industries', 21043),\n",
       " (u'institute', 20918),\n",
       " (u'property', 20682),\n",
       " (u'la', 20400),\n",
       " (u'electric', 20259),\n",
       " (u'travel', 20115),\n",
       " (u'american', 19560),\n",
       " (u'bv', 19306),\n",
       " (u'research', 19203),\n",
       " (u'designs', 19196),\n",
       " (u'centre', 19000),\n",
       " (u'trading', 18606),\n",
       " (u'academy', 18568),\n",
       " (u'art', 18273),\n",
       " (u'security', 18243),\n",
       " (u'north', 18214),\n",
       " (u'supply', 18103)]"
      ]
     },
     "execution_count": 46,
     "metadata": {},
     "output_type": "execute_result"
    }
   ],
   "source": [
    "sorted_counts[:100]"
   ]
  },
  {
   "cell_type": "code",
   "execution_count": null,
   "metadata": {
    "collapsed": true
   },
   "outputs": [],
   "source": [
    "names_ex = names_bag.take(20)\n"
   ]
  }
 ],
 "metadata": {
  "kernelspec": {
   "display_name": "Python 2",
   "language": "python",
   "name": "python2"
  },
  "language_info": {
   "codemirror_mode": {
    "name": "ipython",
    "version": 2
   },
   "file_extension": ".py",
   "mimetype": "text/x-python",
   "name": "python",
   "nbconvert_exporter": "python",
   "pygments_lexer": "ipython2",
   "version": "2.7.12"
  }
 },
 "nbformat": 4,
 "nbformat_minor": 1
}
